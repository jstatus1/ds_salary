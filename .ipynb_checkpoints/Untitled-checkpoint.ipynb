{
 "cells": [
  {
   "cell_type": "code",
   "execution_count": 2,
   "metadata": {
    "scrolled": true
   },
   "outputs": [
    {
     "ename": "ModuleNotFoundError",
     "evalue": "No module named 'matplotlib.pylot'",
     "output_type": "error",
     "traceback": [
      "\u001b[1;31m---------------------------------------------------------------------------\u001b[0m",
      "\u001b[1;31mModuleNotFoundError\u001b[0m                       Traceback (most recent call last)",
      "\u001b[1;32m<ipython-input-2-0cd375e708b6>\u001b[0m in \u001b[0;36m<module>\u001b[1;34m\u001b[0m\n\u001b[0;32m      1\u001b[0m \u001b[1;32mimport\u001b[0m \u001b[0mpandas\u001b[0m \u001b[1;32mas\u001b[0m \u001b[0mpd\u001b[0m\u001b[1;33m\u001b[0m\u001b[1;33m\u001b[0m\u001b[0m\n\u001b[1;32m----> 2\u001b[1;33m \u001b[1;32mimport\u001b[0m \u001b[0mmatplotlib\u001b[0m\u001b[1;33m.\u001b[0m\u001b[0mpylot\u001b[0m \u001b[1;32mas\u001b[0m \u001b[0mplt\u001b[0m\u001b[1;33m\u001b[0m\u001b[1;33m\u001b[0m\u001b[0m\n\u001b[0m\u001b[0;32m      3\u001b[0m \u001b[1;32mimport\u001b[0m \u001b[0mseaborn\u001b[0m \u001b[1;32mas\u001b[0m \u001b[0msns\u001b[0m\u001b[1;33m\u001b[0m\u001b[1;33m\u001b[0m\u001b[0m\n",
      "\u001b[1;31mModuleNotFoundError\u001b[0m: No module named 'matplotlib.pylot'"
     ]
    }
   ],
   "source": [
    "import pandas as pd\n",
    "import matplotlib.pylot as plt\n",
    "import seaborn as sns"
   ]
  },
  {
   "cell_type": "code",
   "execution_count": 3,
   "metadata": {},
   "outputs": [],
   "source": [
    "df = pd.read_csv('glassdoor_jobs_cleaned.csv')"
   ]
  },
  {
   "cell_type": "code",
   "execution_count": 4,
   "metadata": {
    "scrolled": true
   },
   "outputs": [
    {
     "data": {
      "text/html": [
       "<div>\n",
       "<style scoped>\n",
       "    .dataframe tbody tr th:only-of-type {\n",
       "        vertical-align: middle;\n",
       "    }\n",
       "\n",
       "    .dataframe tbody tr th {\n",
       "        vertical-align: top;\n",
       "    }\n",
       "\n",
       "    .dataframe thead th {\n",
       "        text-align: right;\n",
       "    }\n",
       "</style>\n",
       "<table border=\"1\" class=\"dataframe\">\n",
       "  <thead>\n",
       "    <tr style=\"text-align: right;\">\n",
       "      <th></th>\n",
       "      <th>Job Title</th>\n",
       "      <th>Salary Estimate</th>\n",
       "      <th>Job Description</th>\n",
       "      <th>Rating</th>\n",
       "      <th>Company Name</th>\n",
       "      <th>Location</th>\n",
       "      <th>Headquarters</th>\n",
       "      <th>Size</th>\n",
       "      <th>Founded</th>\n",
       "      <th>Type of ownership</th>\n",
       "      <th>...</th>\n",
       "      <th>company_txt</th>\n",
       "      <th>job_city</th>\n",
       "      <th>job_state</th>\n",
       "      <th>same_state</th>\n",
       "      <th>company_age</th>\n",
       "      <th>python_yn</th>\n",
       "      <th>R_yn</th>\n",
       "      <th>spark_yn</th>\n",
       "      <th>aws_yn</th>\n",
       "      <th>excel_yn</th>\n",
       "    </tr>\n",
       "  </thead>\n",
       "  <tbody>\n",
       "    <tr>\n",
       "      <th>0</th>\n",
       "      <td>Data Scientist - Statistics, Early Career</td>\n",
       "      <td>$68K-$111K (Glassdoor est.)</td>\n",
       "      <td>*Organization and Job ID**\\nJob ID: 310918\\n\\n...</td>\n",
       "      <td>3.8</td>\n",
       "      <td>Pacific Northwest National Laboratory\\n3.8</td>\n",
       "      <td>Seattle, WA</td>\n",
       "      <td>Richland, WA</td>\n",
       "      <td>1001 to 5000 employees</td>\n",
       "      <td>1965</td>\n",
       "      <td>Government</td>\n",
       "      <td>...</td>\n",
       "      <td>Pacific Northwest National Laboratory\\n</td>\n",
       "      <td>Seattle</td>\n",
       "      <td>WA</td>\n",
       "      <td>0</td>\n",
       "      <td>54</td>\n",
       "      <td>0</td>\n",
       "      <td>0</td>\n",
       "      <td>0</td>\n",
       "      <td>0</td>\n",
       "      <td>1</td>\n",
       "    </tr>\n",
       "    <tr>\n",
       "      <th>1</th>\n",
       "      <td>Data Scientist II (Miami)</td>\n",
       "      <td>$68K-$111K (Glassdoor est.)</td>\n",
       "      <td>OfferUp is dedicated to building the simplest ...</td>\n",
       "      <td>3.4</td>\n",
       "      <td>OfferUp\\n3.4</td>\n",
       "      <td>Miami, FL</td>\n",
       "      <td>Bellevue, WA</td>\n",
       "      <td>201 to 500 employees</td>\n",
       "      <td>2011</td>\n",
       "      <td>Company - Private</td>\n",
       "      <td>...</td>\n",
       "      <td>OfferUp\\n</td>\n",
       "      <td>Miami</td>\n",
       "      <td>FL</td>\n",
       "      <td>0</td>\n",
       "      <td>8</td>\n",
       "      <td>1</td>\n",
       "      <td>0</td>\n",
       "      <td>0</td>\n",
       "      <td>1</td>\n",
       "      <td>0</td>\n",
       "    </tr>\n",
       "    <tr>\n",
       "      <th>2</th>\n",
       "      <td>Data Scientist</td>\n",
       "      <td>$68K-$111K (Glassdoor est.)</td>\n",
       "      <td>About Us\\n\\n\\nInterested in working for a huma...</td>\n",
       "      <td>4.7</td>\n",
       "      <td>1904labs\\n4.7</td>\n",
       "      <td>Saint Louis, MO</td>\n",
       "      <td>Saint Louis, MO</td>\n",
       "      <td>51 to 200 employees</td>\n",
       "      <td>2016</td>\n",
       "      <td>Company - Private</td>\n",
       "      <td>...</td>\n",
       "      <td>1904labs\\n</td>\n",
       "      <td>Saint Louis</td>\n",
       "      <td>MO</td>\n",
       "      <td>1</td>\n",
       "      <td>3</td>\n",
       "      <td>1</td>\n",
       "      <td>0</td>\n",
       "      <td>1</td>\n",
       "      <td>0</td>\n",
       "      <td>0</td>\n",
       "    </tr>\n",
       "    <tr>\n",
       "      <th>3</th>\n",
       "      <td>Data Scientist (Growth Marketing)</td>\n",
       "      <td>$68K-$111K (Glassdoor est.)</td>\n",
       "      <td>Auth0 is a pre-IPO unicorn. We are growing rap...</td>\n",
       "      <td>4.8</td>\n",
       "      <td>Auth0\\n4.8</td>\n",
       "      <td>America, AL</td>\n",
       "      <td>Bellevue, WA</td>\n",
       "      <td>501 to 1000 employees</td>\n",
       "      <td>2014</td>\n",
       "      <td>Company - Private</td>\n",
       "      <td>...</td>\n",
       "      <td>Auth0\\n</td>\n",
       "      <td>America</td>\n",
       "      <td>AL</td>\n",
       "      <td>0</td>\n",
       "      <td>5</td>\n",
       "      <td>1</td>\n",
       "      <td>0</td>\n",
       "      <td>1</td>\n",
       "      <td>0</td>\n",
       "      <td>0</td>\n",
       "    </tr>\n",
       "    <tr>\n",
       "      <th>4</th>\n",
       "      <td>Data Scientist/Machine Learning</td>\n",
       "      <td>$68K-$111K (Glassdoor est.)</td>\n",
       "      <td>PulsePoint™, a global programmatic advertising...</td>\n",
       "      <td>4.4</td>\n",
       "      <td>PulsePoint\\n4.4</td>\n",
       "      <td>New York, NY</td>\n",
       "      <td>New York, NY</td>\n",
       "      <td>51 to 200 employees</td>\n",
       "      <td>2011</td>\n",
       "      <td>Company - Private</td>\n",
       "      <td>...</td>\n",
       "      <td>PulsePoint\\n</td>\n",
       "      <td>New York</td>\n",
       "      <td>NY</td>\n",
       "      <td>1</td>\n",
       "      <td>8</td>\n",
       "      <td>1</td>\n",
       "      <td>0</td>\n",
       "      <td>1</td>\n",
       "      <td>0</td>\n",
       "      <td>0</td>\n",
       "    </tr>\n",
       "  </tbody>\n",
       "</table>\n",
       "<p>5 rows × 29 columns</p>\n",
       "</div>"
      ],
      "text/plain": [
       "                                   Job Title              Salary Estimate  \\\n",
       "0  Data Scientist - Statistics, Early Career  $68K-$111K (Glassdoor est.)   \n",
       "1                  Data Scientist II (Miami)  $68K-$111K (Glassdoor est.)   \n",
       "2                             Data Scientist  $68K-$111K (Glassdoor est.)   \n",
       "3          Data Scientist (Growth Marketing)  $68K-$111K (Glassdoor est.)   \n",
       "4            Data Scientist/Machine Learning  $68K-$111K (Glassdoor est.)   \n",
       "\n",
       "                                     Job Description  Rating  \\\n",
       "0  *Organization and Job ID**\\nJob ID: 310918\\n\\n...     3.8   \n",
       "1  OfferUp is dedicated to building the simplest ...     3.4   \n",
       "2  About Us\\n\\n\\nInterested in working for a huma...     4.7   \n",
       "3  Auth0 is a pre-IPO unicorn. We are growing rap...     4.8   \n",
       "4  PulsePoint™, a global programmatic advertising...     4.4   \n",
       "\n",
       "                                 Company Name         Location  \\\n",
       "0  Pacific Northwest National Laboratory\\n3.8      Seattle, WA   \n",
       "1                                OfferUp\\n3.4        Miami, FL   \n",
       "2                               1904labs\\n4.7  Saint Louis, MO   \n",
       "3                                  Auth0\\n4.8      America, AL   \n",
       "4                             PulsePoint\\n4.4     New York, NY   \n",
       "\n",
       "      Headquarters                    Size  Founded  Type of ownership  ...  \\\n",
       "0     Richland, WA  1001 to 5000 employees     1965         Government  ...   \n",
       "1     Bellevue, WA    201 to 500 employees     2011  Company - Private  ...   \n",
       "2  Saint Louis, MO     51 to 200 employees     2016  Company - Private  ...   \n",
       "3     Bellevue, WA   501 to 1000 employees     2014  Company - Private  ...   \n",
       "4     New York, NY     51 to 200 employees     2011  Company - Private  ...   \n",
       "\n",
       "                               company_txt     job_city job_state same_state  \\\n",
       "0  Pacific Northwest National Laboratory\\n      Seattle        WA          0   \n",
       "1                                OfferUp\\n        Miami        FL          0   \n",
       "2                               1904labs\\n  Saint Louis        MO          1   \n",
       "3                                  Auth0\\n      America        AL          0   \n",
       "4                             PulsePoint\\n     New York        NY          1   \n",
       "\n",
       "   company_age  python_yn  R_yn  spark_yn  aws_yn excel_yn  \n",
       "0           54          0     0         0       0        1  \n",
       "1            8          1     0         0       1        0  \n",
       "2            3          1     0         1       0        0  \n",
       "3            5          1     0         1       0        0  \n",
       "4            8          1     0         1       0        0  \n",
       "\n",
       "[5 rows x 29 columns]"
      ]
     },
     "execution_count": 4,
     "metadata": {},
     "output_type": "execute_result"
    }
   ],
   "source": [
    "df.head()"
   ]
  },
  {
   "cell_type": "code",
   "execution_count": 5,
   "metadata": {},
   "outputs": [
    {
     "data": {
      "text/plain": [
       "Index(['Job Title', 'Salary Estimate', 'Job Description', 'Rating',\n",
       "       'Company Name', 'Location', 'Headquarters', 'Size', 'Founded',\n",
       "       'Type of ownership', 'Industry', 'Sector', 'Revenue', 'Competitors',\n",
       "       'hourly', 'Employer Provided', 'min_salary', 'max_salary', 'avg_salary',\n",
       "       'company_txt', 'job_city', 'job_state', 'same_state', 'company_age',\n",
       "       'python_yn', 'R_yn', 'spark_yn', 'aws_yn', 'excel_yn'],\n",
       "      dtype='object')"
      ]
     },
     "execution_count": 5,
     "metadata": {},
     "output_type": "execute_result"
    }
   ],
   "source": [
    "df.columns"
   ]
  },
  {
   "cell_type": "code",
   "execution_count": 8,
   "metadata": {},
   "outputs": [],
   "source": [
    "def title_simplifier(title):\n",
    "    \n",
    "    if 'data engineer' in title.lower():\n",
    "        return 'data engineer'\n",
    "    elif 'analyst' in title.lower():\n",
    "        return 'analyst'\n",
    "    elif 'machine learning' in title.lower():\n",
    "        return 'mle'\n",
    "    elif 'manager' in title.lower():\n",
    "        return 'manager'\n",
    "    elif 'director' in title.lower():\n",
    "        return 'director'\n",
    "    elif 'data scientist' in title.lower():\n",
    "        return 'data scientist'\n",
    "    else:\n",
    "        return 'na'\n",
    "    \n",
    "def seniority(title):\n",
    "    if 'sr' in title.lower() or 'senior' in title.lower() or 'sr' in title.lower() or 'lead' in title.lower() or 'principal' in title.lower():\n",
    "        return 'senior'\n",
    "    elif 'jr' in title.lower() or 'jr.' in title.lower():\n",
    "        return 'jr'\n",
    "    else:\n",
    "        return 'na'\n",
    "    "
   ]
  },
  {
   "cell_type": "code",
   "execution_count": 9,
   "metadata": {},
   "outputs": [],
   "source": [
    "df['job_simp'] = df['Job Title'].apply(title_simplifier)"
   ]
  },
  {
   "cell_type": "code",
   "execution_count": 10,
   "metadata": {},
   "outputs": [
    {
     "data": {
      "text/plain": [
       "data scientist    500\n",
       "Name: job_simp, dtype: int64"
      ]
     },
     "execution_count": 10,
     "metadata": {},
     "output_type": "execute_result"
    }
   ],
   "source": [
    "df.job_simp.value_counts()"
   ]
  }
 ],
 "metadata": {
  "kernelspec": {
   "display_name": "Python 3",
   "language": "python",
   "name": "python3"
  },
  "language_info": {
   "codemirror_mode": {
    "name": "ipython",
    "version": 3
   },
   "file_extension": ".py",
   "mimetype": "text/x-python",
   "name": "python",
   "nbconvert_exporter": "python",
   "pygments_lexer": "ipython3",
   "version": "3.7.6"
  }
 },
 "nbformat": 4,
 "nbformat_minor": 4
}
